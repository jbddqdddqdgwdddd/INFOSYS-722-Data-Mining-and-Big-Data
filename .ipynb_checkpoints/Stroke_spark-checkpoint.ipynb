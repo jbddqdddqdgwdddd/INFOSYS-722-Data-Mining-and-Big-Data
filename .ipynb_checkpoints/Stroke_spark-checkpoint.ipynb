{
 "cells": [
  {
   "cell_type": "code",
   "execution_count": 26,
   "id": "86c7125e",
   "metadata": {},
   "outputs": [],
   "source": [
    "import findspark\n",
    "findspark.init('/home/ubuntu/spark-3.2.1-bin-hadoop2.7')\n",
    "import pyspark\n",
    "from pyspark.sql import SparkSession\n",
    "spark = SparkSession.builder.appName('stroke')\\\n",
    "    .config(\"spark.sql.debug.maxToStringFields\", \"100\")\\\n",
    "    .getOrCreate()"
   ]
  },
  {
   "cell_type": "code",
   "execution_count": 27,
   "id": "cfac04d5",
   "metadata": {},
   "outputs": [],
   "source": [
    "# import data with header and auto-datatype\n",
    "df = spark.read.csv('brain_stroke.csv', header=True, inferSchema=True)"
   ]
  },
  {
   "cell_type": "code",
   "execution_count": 28,
   "id": "ec41c2f2",
   "metadata": {},
   "outputs": [
    {
     "name": "stdout",
     "output_type": "stream",
     "text": [
      "+------+----+------------+-------------+------------+-------------+--------------+-----------------+----+---------------+------+\n",
      "|gender| age|hypertension|heart_disease|ever_married|    work_type|Residence_type|avg_glucose_level| bmi| smoking_status|stroke|\n",
      "+------+----+------------+-------------+------------+-------------+--------------+-----------------+----+---------------+------+\n",
      "|  Male|67.0|           0|            1|         Yes|      Private|         Urban|           228.69|36.6|formerly smoked|     1|\n",
      "|  Male|80.0|           0|            1|         Yes|      Private|         Rural|           105.92|32.5|   never smoked|     1|\n",
      "|Female|49.0|           0|            0|         Yes|      Private|         Urban|           171.23|34.4|         smokes|     1|\n",
      "|Female|79.0|           1|            0|         Yes|Self-employed|         Rural|           174.12|24.0|   never smoked|     1|\n",
      "|  Male|81.0|           0|            0|         Yes|      Private|         Urban|           186.21|29.0|formerly smoked|     1|\n",
      "+------+----+------------+-------------+------------+-------------+--------------+-----------------+----+---------------+------+\n",
      "only showing top 5 rows\n",
      "\n"
     ]
    },
    {
     "data": {
      "text/plain": [
       "['gender',\n",
       " 'age',\n",
       " 'hypertension',\n",
       " 'heart_disease',\n",
       " 'ever_married',\n",
       " 'work_type',\n",
       " 'Residence_type',\n",
       " 'avg_glucose_level',\n",
       " 'bmi',\n",
       " 'smoking_status',\n",
       " 'stroke']"
      ]
     },
     "execution_count": 28,
     "metadata": {},
     "output_type": "execute_result"
    }
   ],
   "source": [
    "# data glance\n",
    "df.show(5)\n",
    "\n",
    "df.columns"
   ]
  },
  {
   "cell_type": "code",
   "execution_count": 29,
   "id": "dfd74ddb",
   "metadata": {
    "scrolled": true
   },
   "outputs": [
    {
     "name": "stdout",
     "output_type": "stream",
     "text": [
      "root\n",
      " |-- gender: string (nullable = true)\n",
      " |-- age: double (nullable = true)\n",
      " |-- hypertension: integer (nullable = true)\n",
      " |-- heart_disease: integer (nullable = true)\n",
      " |-- ever_married: string (nullable = true)\n",
      " |-- work_type: string (nullable = true)\n",
      " |-- Residence_type: string (nullable = true)\n",
      " |-- avg_glucose_level: double (nullable = true)\n",
      " |-- bmi: double (nullable = true)\n",
      " |-- smoking_status: string (nullable = true)\n",
      " |-- stroke: integer (nullable = true)\n",
      "\n"
     ]
    }
   ],
   "source": [
    "df.printSchema()"
   ]
  },
  {
   "cell_type": "code",
   "execution_count": 31,
   "id": "a9045c96",
   "metadata": {},
   "outputs": [
    {
     "name": "stdout",
     "output_type": "stream",
     "text": [
      "Complete Rates:\n",
      "gender: 100.00%\n",
      "age: 100.00%\n",
      "hypertension: 100.00%\n",
      "heart_disease: 100.00%\n",
      "ever_married: 100.00%\n",
      "work_type: 100.00%\n",
      "Residence_type: 100.00%\n",
      "avg_glucose_level: 100.00%\n",
      "bmi: 100.00%\n",
      "smoking_status: 100.00%\n",
      "stroke: 100.00%\n",
      "age_zscore: 100.00%\n",
      "hypertension_zscore: 100.00%\n",
      "heart_disease_zscore: 100.00%\n",
      "avg_glucose_level_zscore: 100.00%\n",
      "bmi_zscore: 100.00%\n",
      "stroke_zscore: 100.00%\n",
      "\n",
      "Outlier Percentages:\n",
      "age: 0.00%\n",
      "hypertension: 0.00%\n",
      "heart_disease: 5.52%\n",
      "avg_glucose_level: 0.50%\n",
      "bmi: 0.00%\n",
      "stroke: 4.98%\n",
      "age_zscore: 0.00%\n",
      "hypertension_zscore: 0.00%\n",
      "heart_disease_zscore: 5.52%\n",
      "avg_glucose_level_zscore: 0.50%\n",
      "bmi_zscore: 0.00%\n",
      "stroke_zscore: 4.98%\n"
     ]
    }
   ],
   "source": [
    "from pyspark.sql.functions import col, count, mean, stddev, abs\n",
    "from pyspark.sql.types import FloatType, DoubleType, IntegerType, LongType, ShortType\n",
    "\n",
    "# 总行数\n",
    "total_rows = df.count()\n",
    "\n",
    "# 计算每列的非空（non-null）值的比例\n",
    "complete_rates = {column: (df.filter(col(column).isNotNull()).count() / total_rows) * 100 \n",
    "                  for column in df.columns}\n",
    "\n",
    "# 输出\n",
    "print(\"Complete Rates:\")\n",
    "for column, rate in complete_rates.items():\n",
    "    print(f\"{column}: {rate:.2f}%\")\n",
    "\n",
    "# 计算每列的均值和标准差\n",
    "from itertools import chain\n",
    "\n",
    "# 计算每列的均值和标准差\n",
    "mean_stddev = df.select(*chain(*[(mean(col(column)).alias(f\"{column}_mean\"), \n",
    "                                   stddev(col(column)).alias(f\"{column}_stddev\")) \n",
    "                                  for column in df.columns if df.schema[column].dataType in \n",
    "                                  [FloatType(), DoubleType(), IntegerType(), LongType(), ShortType()]]))\n",
    "\n",
    "\n",
    "# 将结果从 Row 转换为字典以便使用\n",
    "mean_stddev_values = {**mean_stddev.first().asDict()}\n",
    "\n",
    "# 计算 Z 分数\n",
    "# Z = (X-mean)/std\n",
    "for column in df.columns:\n",
    "    if df.schema[column].dataType in [FloatType(), DoubleType(), IntegerType(), LongType(), ShortType()]:\n",
    "        df = df.withColumn(f\"{column}_zscore\", \n",
    "                           (col(column) - mean_stddev_values[f\"{column}_mean\"]) / \n",
    "                           mean_stddev_values[f\"{column}_stddev\"])\n",
    "\n",
    "# 指定的阈值,设置为3.2*std\n",
    "threshold = 3.2\n",
    "\n",
    "# 计算每个列的离群值的比例\n",
    "outlier_percentages = {column: (df.filter(col(f\"{column}_zscore\").isNotNull() & \n",
    "                                       (abs(col(f\"{column}_zscore\")) > threshold)).count() / total_rows) * 100 \n",
    "                       for column in df.columns if f\"{column}_zscore\" in df.columns}\n",
    "\n",
    "# 输出\n",
    "print(\"\\nOutlier Percentages:\")\n",
    "for column, percentage in outlier_percentages.items():\n",
    "    print(f\"{column}: {percentage:.2f}%\")\n",
    "\n"
   ]
  },
  {
   "cell_type": "code",
   "execution_count": 36,
   "id": "f3de7edd",
   "metadata": {},
   "outputs": [
    {
     "ename": "AttributeError",
     "evalue": "'DataFrame' object has no attribute 'duplicated'",
     "output_type": "error",
     "traceback": [
      "\u001b[0;31m---------------------------------------------------------------------------\u001b[0m",
      "\u001b[0;31mAttributeError\u001b[0m                            Traceback (most recent call last)",
      "Input \u001b[0;32mIn [36]\u001b[0m, in \u001b[0;36m<cell line: 1>\u001b[0;34m()\u001b[0m\n\u001b[0;32m----> 1\u001b[0m df[\u001b[43mdf\u001b[49m\u001b[38;5;241;43m.\u001b[39;49m\u001b[43mduplicated\u001b[49m()]\n",
      "File \u001b[0;32m~/spark-3.2.1-bin-hadoop2.7/python/pyspark/sql/dataframe.py:1659\u001b[0m, in \u001b[0;36mDataFrame.__getattr__\u001b[0;34m(self, name)\u001b[0m\n\u001b[1;32m   1649\u001b[0m \u001b[38;5;124;03m\"\"\"Returns the :class:`Column` denoted by ``name``.\u001b[39;00m\n\u001b[1;32m   1650\u001b[0m \n\u001b[1;32m   1651\u001b[0m \u001b[38;5;124;03m.. versionadded:: 1.3.0\u001b[39;00m\n\u001b[0;32m   (...)\u001b[0m\n\u001b[1;32m   1656\u001b[0m \u001b[38;5;124;03m[Row(age=2), Row(age=5)]\u001b[39;00m\n\u001b[1;32m   1657\u001b[0m \u001b[38;5;124;03m\"\"\"\u001b[39;00m\n\u001b[1;32m   1658\u001b[0m \u001b[38;5;28;01mif\u001b[39;00m name \u001b[38;5;129;01mnot\u001b[39;00m \u001b[38;5;129;01min\u001b[39;00m \u001b[38;5;28mself\u001b[39m\u001b[38;5;241m.\u001b[39mcolumns:\n\u001b[0;32m-> 1659\u001b[0m     \u001b[38;5;28;01mraise\u001b[39;00m \u001b[38;5;167;01mAttributeError\u001b[39;00m(\n\u001b[1;32m   1660\u001b[0m         \u001b[38;5;124m\"\u001b[39m\u001b[38;5;124m'\u001b[39m\u001b[38;5;132;01m%s\u001b[39;00m\u001b[38;5;124m'\u001b[39m\u001b[38;5;124m object has no attribute \u001b[39m\u001b[38;5;124m'\u001b[39m\u001b[38;5;132;01m%s\u001b[39;00m\u001b[38;5;124m'\u001b[39m\u001b[38;5;124m\"\u001b[39m \u001b[38;5;241m%\u001b[39m (\u001b[38;5;28mself\u001b[39m\u001b[38;5;241m.\u001b[39m\u001b[38;5;18m__class__\u001b[39m\u001b[38;5;241m.\u001b[39m\u001b[38;5;18m__name__\u001b[39m, name))\n\u001b[1;32m   1661\u001b[0m jc \u001b[38;5;241m=\u001b[39m \u001b[38;5;28mself\u001b[39m\u001b[38;5;241m.\u001b[39m_jdf\u001b[38;5;241m.\u001b[39mapply(name)\n\u001b[1;32m   1662\u001b[0m \u001b[38;5;28;01mreturn\u001b[39;00m Column(jc)\n",
      "\u001b[0;31mAttributeError\u001b[0m: 'DataFrame' object has no attribute 'duplicated'"
     ]
    }
   ],
   "source": [
    "count_all = df.groupBy(df.columns)\\\n",
    "    .count()\\\n",
    "    .where(\"count > 1\")\n",
    "# no duplicates"
   ]
  }
 ],
 "metadata": {
  "kernelspec": {
   "display_name": "Python 3 (ipykernel)",
   "language": "python",
   "name": "python3"
  },
  "language_info": {
   "codemirror_mode": {
    "name": "ipython",
    "version": 3
   },
   "file_extension": ".py",
   "mimetype": "text/x-python",
   "name": "python",
   "nbconvert_exporter": "python",
   "pygments_lexer": "ipython3",
   "version": "3.10.12"
  }
 },
 "nbformat": 4,
 "nbformat_minor": 5
}
