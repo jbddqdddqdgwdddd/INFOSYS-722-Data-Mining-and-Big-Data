{
 "cells": [
  {
   "cell_type": "code",
   "execution_count": 37,
   "id": "d238672b",
   "metadata": {},
   "outputs": [],
   "source": [
    "import findspark\n",
    "findspark.init('/home/ubuntu/spark-3.2.1-bin-hadoop2.7')\n",
    "import pyspark\n",
    "from pyspark.sql import SparkSession\n",
    "spark = SparkSession.builder.appName('stroke')\\\n",
    "    .config(\"spark.sql.debug.maxToStringFields\", \"100\")\\\n",
    "    .getOrCreate()"
   ]
  },
  {
   "cell_type": "code",
   "execution_count": 38,
   "id": "0fd75513",
   "metadata": {},
   "outputs": [],
   "source": [
    "# import data with header and auto-datatype\n",
    "data = spark.read.csv('brain_stroke.csv', header=True, inferSchema=True)"
   ]
  },
  {
   "cell_type": "code",
   "execution_count": 39,
   "id": "91702dd3",
   "metadata": {},
   "outputs": [
    {
     "name": "stdout",
     "output_type": "stream",
     "text": [
      "+------+----+------------+-------------+------------+-------------+--------------+-----------------+----+---------------+------+\n",
      "|gender| age|hypertension|heart_disease|ever_married|    work_type|Residence_type|avg_glucose_level| bmi| smoking_status|stroke|\n",
      "+------+----+------------+-------------+------------+-------------+--------------+-----------------+----+---------------+------+\n",
      "|  Male|67.0|           0|            1|         Yes|      Private|         Urban|           228.69|36.6|formerly smoked|     1|\n",
      "|  Male|80.0|           0|            1|         Yes|      Private|         Rural|           105.92|32.5|   never smoked|     1|\n",
      "|Female|49.0|           0|            0|         Yes|      Private|         Urban|           171.23|34.4|         smokes|     1|\n",
      "|Female|79.0|           1|            0|         Yes|Self-employed|         Rural|           174.12|24.0|   never smoked|     1|\n",
      "|  Male|81.0|           0|            0|         Yes|      Private|         Urban|           186.21|29.0|formerly smoked|     1|\n",
      "+------+----+------------+-------------+------------+-------------+--------------+-----------------+----+---------------+------+\n",
      "only showing top 5 rows\n",
      "\n"
     ]
    },
    {
     "data": {
      "text/plain": [
       "['gender',\n",
       " 'age',\n",
       " 'hypertension',\n",
       " 'heart_disease',\n",
       " 'ever_married',\n",
       " 'work_type',\n",
       " 'Residence_type',\n",
       " 'avg_glucose_level',\n",
       " 'bmi',\n",
       " 'smoking_status',\n",
       " 'stroke']"
      ]
     },
     "execution_count": 39,
     "metadata": {},
     "output_type": "execute_result"
    }
   ],
   "source": [
    "# data glance\n",
    "data.show(5)\n",
    "\n",
    "data.columns"
   ]
  },
  {
   "cell_type": "code",
   "execution_count": 40,
   "id": "7344e6d7",
   "metadata": {
    "scrolled": true
   },
   "outputs": [
    {
     "name": "stdout",
     "output_type": "stream",
     "text": [
      "root\n",
      " |-- gender: string (nullable = true)\n",
      " |-- age: double (nullable = true)\n",
      " |-- hypertension: integer (nullable = true)\n",
      " |-- heart_disease: integer (nullable = true)\n",
      " |-- ever_married: string (nullable = true)\n",
      " |-- work_type: string (nullable = true)\n",
      " |-- Residence_type: string (nullable = true)\n",
      " |-- avg_glucose_level: double (nullable = true)\n",
      " |-- bmi: double (nullable = true)\n",
      " |-- smoking_status: string (nullable = true)\n",
      " |-- stroke: integer (nullable = true)\n",
      "\n"
     ]
    }
   ],
   "source": [
    "data.printSchema()"
   ]
  },
  {
   "cell_type": "code",
   "execution_count": 41,
   "id": "dfe95f26",
   "metadata": {},
   "outputs": [
    {
     "name": "stdout",
     "output_type": "stream",
     "text": [
      "Complete Rates:\n",
      "gender: 100.00%\n",
      "age: 100.00%\n",
      "hypertension: 100.00%\n",
      "heart_disease: 100.00%\n",
      "ever_married: 100.00%\n",
      "work_type: 100.00%\n",
      "Residence_type: 100.00%\n",
      "avg_glucose_level: 100.00%\n",
      "bmi: 100.00%\n",
      "smoking_status: 100.00%\n",
      "stroke: 100.00%\n",
      "\n",
      "Outlier Percentages:\n",
      "age: 0.00%\n",
      "hypertension: 0.00%\n",
      "heart_disease: 5.52%\n",
      "avg_glucose_level: 0.50%\n",
      "bmi: 0.00%\n",
      "stroke: 4.98%\n"
     ]
    }
   ],
   "source": [
    "from pyspark.sql.functions import col, count, mean, stddev, abs\n",
    "from pyspark.sql.types import FloatType, DoubleType, IntegerType, LongType, ShortType, StringType\n",
    "\n",
    "# 总行数\n",
    "total_rows = data.count()\n",
    "\n",
    "# 计算每列的非空（non-null）值的比例\n",
    "complete_rates = {column: (data.filter(col(column).isNotNull()).count() / total_rows) * 100 \n",
    "                  for column in data.columns}\n",
    "\n",
    "# 输出\n",
    "print(\"Complete Rates:\")\n",
    "for column, rate in complete_rates.items():\n",
    "    print(f\"{column}: {rate:.2f}%\")\n",
    "\n",
    "# 计算每列的均值和标准差\n",
    "from itertools import chain\n",
    "\n",
    "# 计算每列的均值和标准差\n",
    "mean_stddev = data.select(*chain(*[(mean(col(column)).alias(f\"{column}_mean\"), \n",
    "                                   stddev(col(column)).alias(f\"{column}_stddev\")) \n",
    "                                  for column in data.columns if data.schema[column].dataType in \n",
    "                                  [FloatType(), DoubleType(), IntegerType(), LongType(), ShortType()]]))\n",
    "\n",
    "\n",
    "# 将结果从 Row 转换为字典以便使用\n",
    "mean_stddev_values = {**mean_stddev.first().asDict()}\n",
    "\n",
    "# 计算 Z 分数\n",
    "# Z = (X-mean)/std\n",
    "for column in data.columns:\n",
    "    if data.schema[column].dataType in [FloatType(), DoubleType(), IntegerType(), LongType(), ShortType()]:\n",
    "        data = data.withColumn(f\"{column}_zscore\", \n",
    "                           (col(column) - mean_stddev_values[f\"{column}_mean\"]) / \n",
    "                           mean_stddev_values[f\"{column}_stddev\"])\n",
    "\n",
    "# 指定的阈值,设置为3.2*std\n",
    "threshold = 3.2\n",
    "\n",
    "# 计算每个列的离群值的比例\n",
    "outlier_percentages = {column: (data.filter(col(f\"{column}_zscore\").isNotNull() & \n",
    "                                       (abs(col(f\"{column}_zscore\")) > threshold)).count() / total_rows) * 100 \n",
    "                       for column in data.columns if f\"{column}_zscore\" in data.columns}\n",
    "\n",
    "# 输出\n",
    "print(\"\\nOutlier Percentages:\")\n",
    "for column, percentage in outlier_percentages.items():\n",
    "    print(f\"{column}: {percentage:.2f}%\")\n",
    "\n"
   ]
  },
  {
   "cell_type": "code",
   "execution_count": 42,
   "id": "acd48e29",
   "metadata": {},
   "outputs": [
    {
     "name": "stdout",
     "output_type": "stream",
     "text": [
      "DataFrame[gender: string, age: double, hypertension: int, heart_disease: int, ever_married: string, work_type: string, Residence_type: string, avg_glucose_level: double, bmi: double, smoking_status: string, stroke: int, age_zscore: double, hypertension_zscore: double, heart_disease_zscore: double, avg_glucose_level_zscore: double, bmi_zscore: double, stroke_zscore: double, count: bigint]\n",
      "+------+---+------------+-------------+------------+---------+--------------+-----------------+---+--------------+------+----------+-------------------+--------------------+------------------------+----------+-------------+-----+\n",
      "|gender|age|hypertension|heart_disease|ever_married|work_type|Residence_type|avg_glucose_level|bmi|smoking_status|stroke|age_zscore|hypertension_zscore|heart_disease_zscore|avg_glucose_level_zscore|bmi_zscore|stroke_zscore|count|\n",
      "+------+---+------------+-------------+------------+---------+--------------+-----------------+---+--------------+------+----------+-------------------+--------------------+------------------------+----------+-------------+-----+\n",
      "+------+---+------------+-------------+------------+---------+--------------+-----------------+---+--------------+------+----------+-------------------+--------------------+------------------------+----------+-------------+-----+\n",
      "\n"
     ]
    }
   ],
   "source": [
    "count_all = data.groupBy(data.columns)\\\n",
    "    .count()\\\n",
    "    .where(\"count > 1\")\n",
    "\n",
    "print(count_all)\n",
    "# no duplicates\n",
    "\n",
    "# 与原始数据集合并，只保留重复的行\n",
    "duplicates = data.join(count_all, on=data.columns, how=\"inner\")\n",
    "\n",
    "# 显示重复行\n",
    "duplicates.show(5)"
   ]
  },
  {
   "cell_type": "code",
   "execution_count": 43,
   "id": "12ac3a07",
   "metadata": {},
   "outputs": [
    {
     "name": "stdout",
     "output_type": "stream",
     "text": [
      "root\n",
      " |-- gender: integer (nullable = false)\n",
      " |-- age: double (nullable = true)\n",
      " |-- hypertension: integer (nullable = true)\n",
      " |-- heart_disease: integer (nullable = true)\n",
      " |-- ever_married: integer (nullable = false)\n",
      " |-- work_type: string (nullable = true)\n",
      " |-- Residence_type: string (nullable = true)\n",
      " |-- avg_glucose_level: double (nullable = true)\n",
      " |-- bmi: double (nullable = true)\n",
      " |-- smoking_status: string (nullable = true)\n",
      " |-- stroke: integer (nullable = true)\n",
      " |-- age_zscore: double (nullable = true)\n",
      " |-- hypertension_zscore: double (nullable = true)\n",
      " |-- heart_disease_zscore: double (nullable = true)\n",
      " |-- avg_glucose_level_zscore: double (nullable = true)\n",
      " |-- bmi_zscore: double (nullable = true)\n",
      " |-- stroke_zscore: double (nullable = true)\n",
      " |-- bmi_: string (nullable = true)\n",
      " |-- avg_glucose_level_: string (nullable = true)\n",
      " |-- age_: string (nullable = false)\n",
      "\n"
     ]
    }
   ],
   "source": [
    "from pyspark.sql.functions import when, col, udf\n",
    "\n",
    "# 将 gender 和 ever_married 列映射到整数\n",
    "data = data.withColumn(\"gender\", when(col(\"gender\") == \"Male\", 1).otherwise(0))\n",
    "data = data.withColumn(\"ever_married\", when(col(\"ever_married\") == \"Yes\", 1).otherwise(0))\n",
    "\n",
    "# 定义用于创建新特征的 UDFs\n",
    "def map_bmi(bmi):\n",
    "    if bmi < 18.5:\n",
    "        return 'underweight'\n",
    "    elif bmi < 23.9:\n",
    "        return 'normal weight'\n",
    "    elif bmi < 27.9:\n",
    "        return 'overweight'\n",
    "    else:\n",
    "        return 'obese'\n",
    "\n",
    "def map_avg_glucose_level(avg_glucose_level):\n",
    "    if avg_glucose_level < 70:\n",
    "        return 'low blood sugar'\n",
    "    elif avg_glucose_level < 100:\n",
    "        return 'normal'\n",
    "    else:\n",
    "        return 'diabetes'\n",
    "\n",
    "udf_map_bmi = udf(map_bmi, StringType())\n",
    "udf_map_avg_glucose_level = udf(map_avg_glucose_level, StringType())\n",
    "\n",
    "# 应用 UDFs 创建新列\n",
    "data = data.withColumn(\"bmi_\", udf_map_bmi(\"bmi\"))\n",
    "data = data.withColumn(\"avg_glucose_level_\", udf_map_avg_glucose_level(\"avg_glucose_level\"))\n",
    "\n",
    "# 将年龄分箱\n",
    "data = data.withColumn(\"age_\", when(col(\"age\") <= 20, \"0-20\")\\\n",
    "    .when((col(\"age\") > 20) & (col(\"age\") <= 40), \"21-40\")\\\n",
    "    .when((col(\"age\") > 40) & (col(\"age\") <= 60), \"41-60\")\\\n",
    "    .when((col(\"age\") > 60) & (col(\"age\") <= 80), \"61-80\")\\\n",
    "    .otherwise(\"80+\"))\n",
    "\n",
    "# 描述性统计和数据信息\n",
    "data.printSchema()\n"
   ]
  },
  {
   "cell_type": "code",
   "execution_count": 46,
   "id": "3410bdb9",
   "metadata": {},
   "outputs": [
    {
     "name": "stdout",
     "output_type": "stream",
     "text": [
      "-RECORD 0----------------------------------------\n",
      " gender                   | 1                    \n",
      " age                      | 67.0                 \n",
      " hypertension             | 0                    \n",
      " heart_disease            | 1                    \n",
      " ever_married             | 1                    \n",
      " work_type                | Private              \n",
      " Residence_type           | Urban                \n",
      " avg_glucose_level        | 228.69               \n",
      " bmi                      | 36.6                 \n",
      " smoking_status           | formerly smoked      \n",
      " stroke                   | 1                    \n",
      " age_zscore               | 1.0404798735788086   \n",
      " hypertension_zscore      | -0.32615302576787664 \n",
      " heart_disease_zscore     | 4.136337954276694    \n",
      " avg_glucose_level_zscore | 2.7231375098735904   \n",
      " bmi_zscore               | 1.1931183772210536   \n",
      " stroke_zscore            | 4.3681627630148325   \n",
      " bmi_                     | obese                \n",
      " avg_glucose_level_       | diabetes             \n",
      " age_                     | 61-80                \n",
      "-RECORD 1----------------------------------------\n",
      " gender                   | 1                    \n",
      " age                      | 80.0                 \n",
      " hypertension             | 0                    \n",
      " heart_disease            | 1                    \n",
      " ever_married             | 1                    \n",
      " work_type                | Private              \n",
      " Residence_type           | Rural                \n",
      " avg_glucose_level        | 105.92               \n",
      " bmi                      | 32.5                 \n",
      " smoking_status           | never smoked         \n",
      " stroke                   | 1                    \n",
      " age_zscore               | 1.6141082765564896   \n",
      " hypertension_zscore      | -0.32615302576787664 \n",
      " heart_disease_zscore     | 4.136337954276694    \n",
      " avg_glucose_level_zscore | -5.22714119933721... \n",
      " bmi_zscore               | 0.5893304437838204   \n",
      " stroke_zscore            | 4.3681627630148325   \n",
      " bmi_                     | obese                \n",
      " avg_glucose_level_       | diabetes             \n",
      " age_                     | 61-80                \n",
      "only showing top 2 rows\n",
      "\n"
     ]
    }
   ],
   "source": [
    "data.show(2, vertical=True)"
   ]
  },
  {
   "cell_type": "code",
   "execution_count": null,
   "id": "b0b8b031",
   "metadata": {},
   "outputs": [],
   "source": []
  }
 ],
 "metadata": {
  "kernelspec": {
   "display_name": "Python 3 (ipykernel)",
   "language": "python",
   "name": "python3"
  },
  "language_info": {
   "codemirror_mode": {
    "name": "ipython",
    "version": 3
   },
   "file_extension": ".py",
   "mimetype": "text/x-python",
   "name": "python",
   "nbconvert_exporter": "python",
   "pygments_lexer": "ipython3",
   "version": "3.10.12"
  }
 },
 "nbformat": 4,
 "nbformat_minor": 5
}
